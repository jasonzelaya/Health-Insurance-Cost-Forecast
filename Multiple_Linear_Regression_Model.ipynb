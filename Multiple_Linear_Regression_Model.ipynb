{
 "cells": [
  {
   "cell_type": "code",
   "execution_count": 2,
   "metadata": {},
   "outputs": [],
   "source": [
    "%matplotlib inline\n",
    "import matplotlib.pyplot as plt\n",
    "import numpy as np\n",
    "import pandas as pd"
   ]
  },
  {
   "cell_type": "code",
   "execution_count": 3,
   "metadata": {},
   "outputs": [
    {
     "data": {
      "text/html": [
       "<div>\n",
       "<style scoped>\n",
       "    .dataframe tbody tr th:only-of-type {\n",
       "        vertical-align: middle;\n",
       "    }\n",
       "\n",
       "    .dataframe tbody tr th {\n",
       "        vertical-align: top;\n",
       "    }\n",
       "\n",
       "    .dataframe thead th {\n",
       "        text-align: right;\n",
       "    }\n",
       "</style>\n",
       "<table border=\"1\" class=\"dataframe\">\n",
       "  <thead>\n",
       "    <tr style=\"text-align: right;\">\n",
       "      <th></th>\n",
       "      <th>Unnamed: 0</th>\n",
       "      <th>age</th>\n",
       "      <th>bmi</th>\n",
       "      <th>children</th>\n",
       "      <th>charges</th>\n",
       "      <th>sex</th>\n",
       "      <th>sex_male</th>\n",
       "      <th>smoker</th>\n",
       "      <th>smoker_yes</th>\n",
       "      <th>region_northeast</th>\n",
       "      <th>region_northwest</th>\n",
       "      <th>region_southeast</th>\n",
       "      <th>region_southwest</th>\n",
       "    </tr>\n",
       "  </thead>\n",
       "  <tbody>\n",
       "    <tr>\n",
       "      <th>0</th>\n",
       "      <td>0</td>\n",
       "      <td>19</td>\n",
       "      <td>27.900</td>\n",
       "      <td>0</td>\n",
       "      <td>16884.92</td>\n",
       "      <td>1</td>\n",
       "      <td>0</td>\n",
       "      <td>0</td>\n",
       "      <td>1</td>\n",
       "      <td>0</td>\n",
       "      <td>0</td>\n",
       "      <td>0</td>\n",
       "      <td>1</td>\n",
       "    </tr>\n",
       "    <tr>\n",
       "      <th>1</th>\n",
       "      <td>1</td>\n",
       "      <td>18</td>\n",
       "      <td>33.770</td>\n",
       "      <td>1</td>\n",
       "      <td>1725.55</td>\n",
       "      <td>0</td>\n",
       "      <td>1</td>\n",
       "      <td>1</td>\n",
       "      <td>0</td>\n",
       "      <td>0</td>\n",
       "      <td>0</td>\n",
       "      <td>1</td>\n",
       "      <td>0</td>\n",
       "    </tr>\n",
       "    <tr>\n",
       "      <th>2</th>\n",
       "      <td>2</td>\n",
       "      <td>28</td>\n",
       "      <td>33.000</td>\n",
       "      <td>3</td>\n",
       "      <td>4449.46</td>\n",
       "      <td>0</td>\n",
       "      <td>1</td>\n",
       "      <td>1</td>\n",
       "      <td>0</td>\n",
       "      <td>0</td>\n",
       "      <td>0</td>\n",
       "      <td>1</td>\n",
       "      <td>0</td>\n",
       "    </tr>\n",
       "    <tr>\n",
       "      <th>3</th>\n",
       "      <td>3</td>\n",
       "      <td>33</td>\n",
       "      <td>22.705</td>\n",
       "      <td>0</td>\n",
       "      <td>21984.47</td>\n",
       "      <td>0</td>\n",
       "      <td>1</td>\n",
       "      <td>1</td>\n",
       "      <td>0</td>\n",
       "      <td>0</td>\n",
       "      <td>1</td>\n",
       "      <td>0</td>\n",
       "      <td>0</td>\n",
       "    </tr>\n",
       "    <tr>\n",
       "      <th>4</th>\n",
       "      <td>4</td>\n",
       "      <td>32</td>\n",
       "      <td>28.880</td>\n",
       "      <td>0</td>\n",
       "      <td>3866.86</td>\n",
       "      <td>0</td>\n",
       "      <td>1</td>\n",
       "      <td>1</td>\n",
       "      <td>0</td>\n",
       "      <td>0</td>\n",
       "      <td>1</td>\n",
       "      <td>0</td>\n",
       "      <td>0</td>\n",
       "    </tr>\n",
       "  </tbody>\n",
       "</table>\n",
       "</div>"
      ],
      "text/plain": [
       "   Unnamed: 0  age     bmi  children   charges  sex  sex_male  smoker  \\\n",
       "0           0   19  27.900         0  16884.92    1         0       0   \n",
       "1           1   18  33.770         1   1725.55    0         1       1   \n",
       "2           2   28  33.000         3   4449.46    0         1       1   \n",
       "3           3   33  22.705         0  21984.47    0         1       1   \n",
       "4           4   32  28.880         0   3866.86    0         1       1   \n",
       "\n",
       "   smoker_yes  region_northeast  region_northwest  region_southeast  \\\n",
       "0           1                 0                 0                 0   \n",
       "1           0                 0                 0                 1   \n",
       "2           0                 0                 0                 1   \n",
       "3           0                 0                 1                 0   \n",
       "4           0                 0                 1                 0   \n",
       "\n",
       "   region_southwest  \n",
       "0                 1  \n",
       "1                 0  \n",
       "2                 0  \n",
       "3                 0  \n",
       "4                 0  "
      ]
     },
     "execution_count": 3,
     "metadata": {},
     "output_type": "execute_result"
    }
   ],
   "source": [
    "# Read the csv file into a pandas DataFrame\n",
    "\n",
    "df = pd.read_csv('insurance_cleaned.csv')\n",
    "df.rename(columns={'sex_female':'sex'}, inplace=True)\n",
    "df.rename(columns={'smoker_no':'smoker'}, inplace=True)\n",
    "df.head()"
   ]
  },
  {
   "cell_type": "code",
   "execution_count": 4,
   "metadata": {},
   "outputs": [
    {
     "data": {
      "text/html": [
       "<div>\n",
       "<style scoped>\n",
       "    .dataframe tbody tr th:only-of-type {\n",
       "        vertical-align: middle;\n",
       "    }\n",
       "\n",
       "    .dataframe tbody tr th {\n",
       "        vertical-align: top;\n",
       "    }\n",
       "\n",
       "    .dataframe thead th {\n",
       "        text-align: right;\n",
       "    }\n",
       "</style>\n",
       "<table border=\"1\" class=\"dataframe\">\n",
       "  <thead>\n",
       "    <tr style=\"text-align: right;\">\n",
       "      <th></th>\n",
       "      <th>age</th>\n",
       "      <th>bmi</th>\n",
       "      <th>children</th>\n",
       "      <th>charges</th>\n",
       "      <th>sex</th>\n",
       "      <th>sex_male</th>\n",
       "      <th>smoker</th>\n",
       "      <th>smoker_yes</th>\n",
       "      <th>region_northeast</th>\n",
       "      <th>region_northwest</th>\n",
       "      <th>region_southeast</th>\n",
       "      <th>region_southwest</th>\n",
       "    </tr>\n",
       "  </thead>\n",
       "  <tbody>\n",
       "    <tr>\n",
       "      <th>0</th>\n",
       "      <td>19</td>\n",
       "      <td>27.900</td>\n",
       "      <td>0</td>\n",
       "      <td>16884.92</td>\n",
       "      <td>1</td>\n",
       "      <td>0</td>\n",
       "      <td>0</td>\n",
       "      <td>1</td>\n",
       "      <td>0</td>\n",
       "      <td>0</td>\n",
       "      <td>0</td>\n",
       "      <td>1</td>\n",
       "    </tr>\n",
       "    <tr>\n",
       "      <th>1</th>\n",
       "      <td>18</td>\n",
       "      <td>33.770</td>\n",
       "      <td>1</td>\n",
       "      <td>1725.55</td>\n",
       "      <td>0</td>\n",
       "      <td>1</td>\n",
       "      <td>1</td>\n",
       "      <td>0</td>\n",
       "      <td>0</td>\n",
       "      <td>0</td>\n",
       "      <td>1</td>\n",
       "      <td>0</td>\n",
       "    </tr>\n",
       "    <tr>\n",
       "      <th>2</th>\n",
       "      <td>28</td>\n",
       "      <td>33.000</td>\n",
       "      <td>3</td>\n",
       "      <td>4449.46</td>\n",
       "      <td>0</td>\n",
       "      <td>1</td>\n",
       "      <td>1</td>\n",
       "      <td>0</td>\n",
       "      <td>0</td>\n",
       "      <td>0</td>\n",
       "      <td>1</td>\n",
       "      <td>0</td>\n",
       "    </tr>\n",
       "    <tr>\n",
       "      <th>3</th>\n",
       "      <td>33</td>\n",
       "      <td>22.705</td>\n",
       "      <td>0</td>\n",
       "      <td>21984.47</td>\n",
       "      <td>0</td>\n",
       "      <td>1</td>\n",
       "      <td>1</td>\n",
       "      <td>0</td>\n",
       "      <td>0</td>\n",
       "      <td>1</td>\n",
       "      <td>0</td>\n",
       "      <td>0</td>\n",
       "    </tr>\n",
       "    <tr>\n",
       "      <th>4</th>\n",
       "      <td>32</td>\n",
       "      <td>28.880</td>\n",
       "      <td>0</td>\n",
       "      <td>3866.86</td>\n",
       "      <td>0</td>\n",
       "      <td>1</td>\n",
       "      <td>1</td>\n",
       "      <td>0</td>\n",
       "      <td>0</td>\n",
       "      <td>1</td>\n",
       "      <td>0</td>\n",
       "      <td>0</td>\n",
       "    </tr>\n",
       "  </tbody>\n",
       "</table>\n",
       "</div>"
      ],
      "text/plain": [
       "   age     bmi  children   charges  sex  sex_male  smoker  smoker_yes  \\\n",
       "0   19  27.900         0  16884.92    1         0       0           1   \n",
       "1   18  33.770         1   1725.55    0         1       1           0   \n",
       "2   28  33.000         3   4449.46    0         1       1           0   \n",
       "3   33  22.705         0  21984.47    0         1       1           0   \n",
       "4   32  28.880         0   3866.86    0         1       1           0   \n",
       "\n",
       "   region_northeast  region_northwest  region_southeast  region_southwest  \n",
       "0                 0                 0                 0                 1  \n",
       "1                 0                 0                 1                 0  \n",
       "2                 0                 0                 1                 0  \n",
       "3                 0                 1                 0                 0  \n",
       "4                 0                 1                 0                 0  "
      ]
     },
     "execution_count": 4,
     "metadata": {},
     "output_type": "execute_result"
    }
   ],
   "source": [
    "df = df.drop(columns='Unnamed: 0')\n",
    "df.head()"
   ]
  },
  {
   "cell_type": "code",
   "execution_count": 4,
   "metadata": {},
   "outputs": [
    {
     "data": {
      "text/html": [
       "<div>\n",
       "<style scoped>\n",
       "    .dataframe tbody tr th:only-of-type {\n",
       "        vertical-align: middle;\n",
       "    }\n",
       "\n",
       "    .dataframe tbody tr th {\n",
       "        vertical-align: top;\n",
       "    }\n",
       "\n",
       "    .dataframe thead th {\n",
       "        text-align: right;\n",
       "    }\n",
       "</style>\n",
       "<table border=\"1\" class=\"dataframe\">\n",
       "  <thead>\n",
       "    <tr style=\"text-align: right;\">\n",
       "      <th></th>\n",
       "      <th>age</th>\n",
       "      <th>bmi</th>\n",
       "      <th>children</th>\n",
       "      <th>charges</th>\n",
       "      <th>sex</th>\n",
       "      <th>sex_male</th>\n",
       "      <th>smoker</th>\n",
       "      <th>smoker_yes</th>\n",
       "      <th>region_northeast</th>\n",
       "      <th>region_northwest</th>\n",
       "      <th>region_southeast</th>\n",
       "      <th>region_southwest</th>\n",
       "    </tr>\n",
       "  </thead>\n",
       "  <tbody>\n",
       "    <tr>\n",
       "      <th>count</th>\n",
       "      <td>1338.000000</td>\n",
       "      <td>1338.000000</td>\n",
       "      <td>1338.000000</td>\n",
       "      <td>1338.000000</td>\n",
       "      <td>1338.000000</td>\n",
       "      <td>1338.000000</td>\n",
       "      <td>1338.000000</td>\n",
       "      <td>1338.000000</td>\n",
       "      <td>1338.000000</td>\n",
       "      <td>1338.000000</td>\n",
       "      <td>1338.000000</td>\n",
       "      <td>1338.000000</td>\n",
       "    </tr>\n",
       "    <tr>\n",
       "      <th>mean</th>\n",
       "      <td>39.207025</td>\n",
       "      <td>30.663397</td>\n",
       "      <td>1.094918</td>\n",
       "      <td>13270.422280</td>\n",
       "      <td>0.494768</td>\n",
       "      <td>0.505232</td>\n",
       "      <td>0.795217</td>\n",
       "      <td>0.204783</td>\n",
       "      <td>0.242152</td>\n",
       "      <td>0.242900</td>\n",
       "      <td>0.272048</td>\n",
       "      <td>0.242900</td>\n",
       "    </tr>\n",
       "    <tr>\n",
       "      <th>std</th>\n",
       "      <td>14.049960</td>\n",
       "      <td>6.098187</td>\n",
       "      <td>1.205493</td>\n",
       "      <td>12110.011272</td>\n",
       "      <td>0.500160</td>\n",
       "      <td>0.500160</td>\n",
       "      <td>0.403694</td>\n",
       "      <td>0.403694</td>\n",
       "      <td>0.428546</td>\n",
       "      <td>0.428995</td>\n",
       "      <td>0.445181</td>\n",
       "      <td>0.428995</td>\n",
       "    </tr>\n",
       "    <tr>\n",
       "      <th>min</th>\n",
       "      <td>18.000000</td>\n",
       "      <td>15.960000</td>\n",
       "      <td>0.000000</td>\n",
       "      <td>1121.870000</td>\n",
       "      <td>0.000000</td>\n",
       "      <td>0.000000</td>\n",
       "      <td>0.000000</td>\n",
       "      <td>0.000000</td>\n",
       "      <td>0.000000</td>\n",
       "      <td>0.000000</td>\n",
       "      <td>0.000000</td>\n",
       "      <td>0.000000</td>\n",
       "    </tr>\n",
       "    <tr>\n",
       "      <th>25%</th>\n",
       "      <td>27.000000</td>\n",
       "      <td>26.296250</td>\n",
       "      <td>0.000000</td>\n",
       "      <td>4740.287500</td>\n",
       "      <td>0.000000</td>\n",
       "      <td>0.000000</td>\n",
       "      <td>1.000000</td>\n",
       "      <td>0.000000</td>\n",
       "      <td>0.000000</td>\n",
       "      <td>0.000000</td>\n",
       "      <td>0.000000</td>\n",
       "      <td>0.000000</td>\n",
       "    </tr>\n",
       "    <tr>\n",
       "      <th>50%</th>\n",
       "      <td>39.000000</td>\n",
       "      <td>30.400000</td>\n",
       "      <td>1.000000</td>\n",
       "      <td>9382.030000</td>\n",
       "      <td>0.000000</td>\n",
       "      <td>1.000000</td>\n",
       "      <td>1.000000</td>\n",
       "      <td>0.000000</td>\n",
       "      <td>0.000000</td>\n",
       "      <td>0.000000</td>\n",
       "      <td>0.000000</td>\n",
       "      <td>0.000000</td>\n",
       "    </tr>\n",
       "    <tr>\n",
       "      <th>75%</th>\n",
       "      <td>51.000000</td>\n",
       "      <td>34.693750</td>\n",
       "      <td>2.000000</td>\n",
       "      <td>16639.915000</td>\n",
       "      <td>1.000000</td>\n",
       "      <td>1.000000</td>\n",
       "      <td>1.000000</td>\n",
       "      <td>0.000000</td>\n",
       "      <td>0.000000</td>\n",
       "      <td>0.000000</td>\n",
       "      <td>1.000000</td>\n",
       "      <td>0.000000</td>\n",
       "    </tr>\n",
       "    <tr>\n",
       "      <th>max</th>\n",
       "      <td>64.000000</td>\n",
       "      <td>53.130000</td>\n",
       "      <td>5.000000</td>\n",
       "      <td>63770.430000</td>\n",
       "      <td>1.000000</td>\n",
       "      <td>1.000000</td>\n",
       "      <td>1.000000</td>\n",
       "      <td>1.000000</td>\n",
       "      <td>1.000000</td>\n",
       "      <td>1.000000</td>\n",
       "      <td>1.000000</td>\n",
       "      <td>1.000000</td>\n",
       "    </tr>\n",
       "  </tbody>\n",
       "</table>\n",
       "</div>"
      ],
      "text/plain": [
       "               age          bmi     children       charges          sex  \\\n",
       "count  1338.000000  1338.000000  1338.000000   1338.000000  1338.000000   \n",
       "mean     39.207025    30.663397     1.094918  13270.422280     0.494768   \n",
       "std      14.049960     6.098187     1.205493  12110.011272     0.500160   \n",
       "min      18.000000    15.960000     0.000000   1121.870000     0.000000   \n",
       "25%      27.000000    26.296250     0.000000   4740.287500     0.000000   \n",
       "50%      39.000000    30.400000     1.000000   9382.030000     0.000000   \n",
       "75%      51.000000    34.693750     2.000000  16639.915000     1.000000   \n",
       "max      64.000000    53.130000     5.000000  63770.430000     1.000000   \n",
       "\n",
       "          sex_male       smoker   smoker_yes  region_northeast  \\\n",
       "count  1338.000000  1338.000000  1338.000000       1338.000000   \n",
       "mean      0.505232     0.795217     0.204783          0.242152   \n",
       "std       0.500160     0.403694     0.403694          0.428546   \n",
       "min       0.000000     0.000000     0.000000          0.000000   \n",
       "25%       0.000000     1.000000     0.000000          0.000000   \n",
       "50%       1.000000     1.000000     0.000000          0.000000   \n",
       "75%       1.000000     1.000000     0.000000          0.000000   \n",
       "max       1.000000     1.000000     1.000000          1.000000   \n",
       "\n",
       "       region_northwest  region_southeast  region_southwest  \n",
       "count       1338.000000       1338.000000       1338.000000  \n",
       "mean           0.242900          0.272048          0.242900  \n",
       "std            0.428995          0.445181          0.428995  \n",
       "min            0.000000          0.000000          0.000000  \n",
       "25%            0.000000          0.000000          0.000000  \n",
       "50%            0.000000          0.000000          0.000000  \n",
       "75%            0.000000          1.000000          0.000000  \n",
       "max            1.000000          1.000000          1.000000  "
      ]
     },
     "execution_count": 4,
     "metadata": {},
     "output_type": "execute_result"
    }
   ],
   "source": [
    "df.describe()"
   ]
  },
  {
   "cell_type": "code",
<<<<<<< HEAD
   "execution_count": 6,
=======
   "execution_count": 5,
>>>>>>> 2d4231ddfadc198de872613e722b777a67baabbb
   "metadata": {},
   "outputs": [
    {
     "name": "stdout",
     "output_type": "stream",
     "text": [
      "<class 'pandas.core.frame.DataFrame'>\n",
      "RangeIndex: 1338 entries, 0 to 1337\n",
      "Data columns (total 12 columns):\n",
      "age                 1338 non-null int64\n",
      "bmi                 1338 non-null float64\n",
      "children            1338 non-null int64\n",
      "charges             1338 non-null float64\n",
      "sex                 1338 non-null int64\n",
      "sex_male            1338 non-null int64\n",
      "smoker              1338 non-null int64\n",
      "smoker_yes          1338 non-null int64\n",
      "region_northeast    1338 non-null int64\n",
      "region_northwest    1338 non-null int64\n",
      "region_southeast    1338 non-null int64\n",
      "region_southwest    1338 non-null int64\n",
      "dtypes: float64(2), int64(10)\n",
      "memory usage: 125.5 KB\n"
     ]
    }
   ],
   "source": [
    "df.info()"
   ]
  },
  {
   "cell_type": "code",
<<<<<<< HEAD
   "execution_count": 21,
=======
   "execution_count": 6,
>>>>>>> 2d4231ddfadc198de872613e722b777a67baabbb
   "metadata": {},
   "outputs": [
    {
     "data": {
      "text/plain": [
       "age                 float64\n",
       "bmi                 float64\n",
       "children            float64\n",
       "charges             float64\n",
       "sex                   int64\n",
       "sex_male            float64\n",
       "smoker                int64\n",
       "smoker_yes          float64\n",
       "region_northeast    float64\n",
       "region_northwest    float64\n",
       "region_southeast    float64\n",
       "region_southwest    float64\n",
       "sex_female          float64\n",
       "smoker_no           float64\n",
       "dtype: object"
      ]
     },
<<<<<<< HEAD
     "execution_count": 21,
=======
     "execution_count": 6,
>>>>>>> 2d4231ddfadc198de872613e722b777a67baabbb
     "metadata": {},
     "output_type": "execute_result"
    }
   ],
   "source": [
    "# Convert all column values to the float type to make the values compatible with StandardScalar()\n",
    "\n",
    "df['age'] = df.age.astype(float)\n",
    "df['bmi'] = df.bmi.astype(float)\n",
    "df['children'] = df.children.astype(float)\n",
    "df['charges'] = df.charges.astype(float)\n",
    "df['sex_female'] = df.sex_female.astype(float)\n",
    "df['sex_male'] = df.sex_male.astype(float)\n",
    "df['smoker_no'] = df.smoker_no.astype(float)\n",
    "df['smoker_yes'] = df.smoker_yes.astype(float)\n",
    "df['region_northeast'] = df.region_northeast.astype(float)\n",
    "df['region_northwest'] = df.region_northwest.astype(float)\n",
    "df['region_southeast'] = df.region_southeast.astype(float)\n",
    "df['region_southwest'] = df.region_southwest.astype(float)\n",
    "\n",
    "df.dtypes"
   ]
  },
  {
   "cell_type": "code",
   "execution_count": 7,
   "metadata": {},
   "outputs": [
    {
     "name": "stdout",
     "output_type": "stream",
     "text": [
      "(1338, 9) (1338, 1)\n"
     ]
    }
   ],
   "source": [
    "# Assign X to the independent variables we will use and assign y to the dependent variable that we will be trying to predict\n",
    "\n",
    "X = df[['age', 'bmi', 'children', 'sex_female', 'smoker_no', 'region_northeast', 'region_northwest', 'region_southeast', 'region_southwest']]\n",
    "y = df['charges'].values.reshape(-1, 1)\n",
    "print(X.shape, y.shape)"
   ]
  },
  {
   "cell_type": "code",
   "execution_count": 8,
   "metadata": {},
   "outputs": [],
   "source": [
    "# Split the data into training data and testing data\n",
    "\n",
    "from sklearn.model_selection import train_test_split\n",
    "\n",
    "# Set the random_state to 42 to validate processing over multiple runs of the code\n",
    "X_train, X_test, y_train, y_test = train_test_split(X, y, random_state=42)"
   ]
  },
  {
   "cell_type": "code",
   "execution_count": 9,
   "metadata": {},
   "outputs": [],
   "source": [
    "# Create a StandardScaler model and fit it to the training data\n",
    "\n",
    "from sklearn.preprocessing import StandardScaler\n",
    "\n",
    "X_scaler = StandardScaler().fit(X_train)\n",
    "y_scaler = StandardScaler().fit(y_train)"
   ]
  },
  {
   "cell_type": "code",
   "execution_count": 10,
   "metadata": {},
   "outputs": [],
   "source": [
    "# Transform the training and testing data using the X_scaler and y_scaler models\n",
    "\n",
    "X_train_scaled = X_scaler.transform(X_train)\n",
    "X_test_scaled = X_scaler.transform(X_test)\n",
    "y_train_scaled = y_scaler.transform(y_train)\n",
    "y_test_scaled = y_scaler.transform(y_test)"
   ]
  },
  {
   "cell_type": "code",
   "execution_count": 11,
   "metadata": {},
   "outputs": [
    {
     "data": {
      "text/plain": [
       "LinearRegression(copy_X=True, fit_intercept=True, n_jobs=1, normalize=False)"
      ]
     },
     "execution_count": 11,
     "metadata": {},
     "output_type": "execute_result"
    }
   ],
   "source": [
    "# Create a LinearRegression model and fit it to the scaled training data\n",
    "\n",
    "from sklearn.linear_model import LinearRegression\n",
    "\n",
    "model = LinearRegression()\n",
    "model.fit(X_train_scaled, y_train_scaled)"
   ]
  },
  {
   "cell_type": "code",
   "execution_count": 12,
   "metadata": {},
   "outputs": [
    {
     "data": {
      "image/png": "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\n",
      "text/plain": [
       "<Figure size 432x288 with 1 Axes>"
      ]
     },
     "metadata": {
      "needs_background": "light"
     },
     "output_type": "display_data"
    }
   ],
   "source": [
    "# Make predictions using the X_test_scaled data\n",
    "# Plot X_test_scaled vs y_test_scaled\n",
    "# Create a scatter plot to visualize the relationships of y_test_scaled vs predictions\n",
    "\n",
    "# Plot both training data and testing data residuals on the same graph\n",
    "\n",
    "predictions = model.predict(X_test_scaled)\n",
    "model.fit(X_train_scaled, y_train_scaled)\n",
    "plt.scatter(model.predict(X_train_scaled), model.predict(X_train_scaled) - y_train_scaled, c=\"blue\", label=\"Training Data\")\n",
    "plt.scatter(model.predict(X_test_scaled), model.predict(X_test_scaled) - y_test_scaled, c=\"orange\", label=\"Testing Data\")\n",
    "plt.legend()\n",
    "plt.hlines(y=0, xmin=y_test_scaled.min(), xmax=y_test_scaled.max())\n",
    "plt.title(\"Residuals\")\n",
    "plt.show()"
   ]
  },
  {
   "cell_type": "code",
   "execution_count": 13,
   "metadata": {},
   "outputs": [
    {
     "data": {
      "image/png": "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\n",
      "text/plain": [
       "<Figure size 432x288 with 1 Axes>"
      ]
     },
     "metadata": {
      "needs_background": "light"
     },
     "output_type": "display_data"
    }
   ],
   "source": [
    "# Make predictions using the X_test_scaled data\n",
    "# Plot y_test_scaled vs y_test_scaled\n",
    "# Scatter plot y_test_scaled vs predictions\n",
    "predictions = model.predict(X_test_scaled)\n",
    "model.fit(X_train_scaled, y_train_scaled)\n",
    "plt.scatter(model.predict(X_train_scaled), model.predict(X_train_scaled) - y_train_scaled, c=\"blue\")\n",
    "plt.hlines(y=0, xmin=y_test_scaled.min(), xmax=y_test_scaled.max())\n",
    "plt.title(\"Residual Plot (training data)\")\n",
    "plt.xlabel(\"Predicted Value of Insurance Charge ($)\")\n",
    "plt.ylabel(\"Residuals\")\n",
    "plt.show()"
   ]
  },
  {
   "cell_type": "code",
   "execution_count": 14,
   "metadata": {},
   "outputs": [
    {
     "data": {
      "image/png": "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\n",
      "text/plain": [
       "<Figure size 432x288 with 1 Axes>"
      ]
     },
     "metadata": {
      "needs_background": "light"
     },
     "output_type": "display_data"
    }
   ],
   "source": [
    "predictions = model.predict(X_test_scaled)\n",
    "model.fit(X_train_scaled, y_train_scaled)\n",
    "plt.scatter(model.predict(X_test_scaled), model.predict(X_test_scaled) - y_test_scaled, c=\"orange\")\n",
    "plt.hlines(y=0, xmin=y_test_scaled.min(), xmax=y_test_scaled.max())\n",
    "plt.title(\"Residual Plot (testing data)\")\n",
    "plt.xlabel(\"Predicted Value of Insurance Charge ($)\")\n",
    "plt.ylabel(\"Residuals\")\n",
    "plt.show()"
   ]
  },
  {
   "cell_type": "code",
   "execution_count": 15,
   "metadata": {},
   "outputs": [
    {
     "name": "stdout",
     "output_type": "stream",
     "text": [
      "MSE: 0.2420405277894638, R2: 0.7672642958118858\n"
     ]
    }
   ],
   "source": [
    "# Use X_test_scaled, y_test_scaled, and model.predict(X_test_scaled) to calculate MSE and R2\n",
    "\n",
    "from sklearn.metrics import mean_squared_error\n",
    "\n",
    "MSE = mean_squared_error(y_test_scaled, predictions)\n",
    "r2 = model.score(X_test_scaled, y_test_scaled)\n",
    "\n",
    "print(f\"MSE: {MSE}, R2: {r2}\")"
   ]
  },
  {
   "cell_type": "code",
   "execution_count": 16,
   "metadata": {},
   "outputs": [
    {
     "name": "stdout",
     "output_type": "stream",
     "text": [
      "MSE: 0.2439715116078276, R2: 0.7654075452798689\n"
     ]
    }
   ],
   "source": [
    "# LASSO model\n",
    "\n",
    "from sklearn.linear_model import Lasso\n",
    "\n",
    "lasso = Lasso(alpha=.01).fit(X_train_scaled, y_train_scaled)\n",
    "\n",
    "predictions = lasso.predict(X_test_scaled)\n",
    "\n",
    "MSE = mean_squared_error(y_test_scaled, predictions)\n",
    "r2 = lasso.score(X_test_scaled, y_test_scaled)\n",
    "### END SOLUTION\n",
    "\n",
    "print(f\"MSE: {MSE}, R2: {r2}\")"
   ]
  },
  {
   "cell_type": "code",
   "execution_count": 17,
   "metadata": {},
   "outputs": [
    {
     "name": "stdout",
     "output_type": "stream",
     "text": [
      "MSE: 0.24204089956766073, R2: 0.7672639383260497\n"
     ]
    }
   ],
   "source": [
    "# Ridge model\n",
    "\n",
    "from sklearn.linear_model import Ridge\n",
    "\n",
    "ridge = Ridge(alpha=.01).fit(X_train_scaled, y_train_scaled)\n",
    "\n",
    "predictions = ridge.predict(X_test_scaled)\n",
    "\n",
    "MSE = mean_squared_error(y_test_scaled, predictions)\n",
    "r2 = ridge.score(X_test_scaled, y_test_scaled)\n",
    "\n",
    "print(f\"MSE: {MSE}, R2: {r2}\")"
   ]
  },
  {
   "cell_type": "code",
   "execution_count": 18,
   "metadata": {},
   "outputs": [
    {
     "name": "stdout",
     "output_type": "stream",
     "text": [
      "MSE: 0.2431281752389062, R2: 0.7662184610611265\n"
     ]
    }
   ],
   "source": [
    "# ElasticNet model\n",
    "\n",
    "from sklearn.linear_model import ElasticNet\n",
    "\n",
    "elasticnet = ElasticNet(alpha=.01).fit(X_train_scaled, y_train_scaled)\n",
    "\n",
    "predictions = elasticnet.predict(X_test_scaled)\n",
    "\n",
    "MSE = mean_squared_error(y_test_scaled, predictions)\n",
    "r2 = elasticnet.score(X_test_scaled, y_test_scaled)\n",
    "\n",
    "print(f\"MSE: {MSE}, R2: {r2}\")"
   ]
  },
  {
   "cell_type": "code",
<<<<<<< HEAD
   "execution_count": 20,
=======
   "execution_count": 19,
>>>>>>> 2d4231ddfadc198de872613e722b777a67baabbb
   "metadata": {},
   "outputs": [
    {
     "name": "stdout",
     "output_type": "stream",
     "text": [
      "Weight coefficients:  [[ 0.3024459   0.16954806  0.04263197 -0.00189372 -0.79252608  0.01798699\n",
      "   0.00518059 -0.0102165  -0.01287915]]\n",
      "y-axis intercept:  [-4.06745057e-17]\n"
     ]
    }
   ],
   "source": [
    "print('Weight coefficients: ', model.coef_)\n",
    "print('y-axis intercept: ', model.intercept_) "
   ]
  }
 ],
 "metadata": {
  "kernelspec": {
   "display_name": "Python 3",
   "language": "python",
   "name": "python3"
  },
  "language_info": {
   "codemirror_mode": {
    "name": "ipython",
    "version": 3
   },
   "file_extension": ".py",
   "mimetype": "text/x-python",
   "name": "python",
   "nbconvert_exporter": "python",
   "pygments_lexer": "ipython3",
   "version": "3.7.2"
  }
 },
 "nbformat": 4,
 "nbformat_minor": 2
}
